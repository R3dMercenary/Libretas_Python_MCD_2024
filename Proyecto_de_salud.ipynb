{
  "nbformat": 4,
  "nbformat_minor": 0,
  "metadata": {
    "colab": {
      "provenance": [],
      "authorship_tag": "ABX9TyPfGqxCKmLUFimqpNAxsUd/",
      "include_colab_link": true
    },
    "kernelspec": {
      "name": "python3",
      "display_name": "Python 3"
    },
    "language_info": {
      "name": "python"
    }
  },
  "cells": [
    {
      "cell_type": "markdown",
      "metadata": {
        "id": "view-in-github",
        "colab_type": "text"
      },
      "source": [
        "<a href=\"https://colab.research.google.com/github/R3dMercenary/Libretas_Python_MCD_2024/blob/main/Proyecto_de_salud.ipynb\" target=\"_parent\"><img src=\"https://colab.research.google.com/assets/colab-badge.svg\" alt=\"Open In Colab\"/></a>"
      ]
    },
    {
      "cell_type": "markdown",
      "source": [
        "Instrucciones\n",
        "Seleccionar un conjunto de datos libres de la Secretaría de Salud en:\n",
        "\n",
        "http://www.dgis.salud.gob.mx/contenidos/basesdedatos/Datos_Abiertos_gobmx.html\n",
        "\n",
        "Entre los archivos que puedes utilizar se encuentra:\n",
        "\n",
        "Exceso de Mortalidad\n",
        "Egresos Hospitalarios\n",
        "Muerte Materna\n",
        "Nacimientos\n",
        "Lesiones\n",
        "Urgencias\n",
        "Defunciones\n",
        "Servicios Otorgados\n",
        "\n",
        "Entre los detalles que tiene que tener tu libreta son:\n",
        "\n",
        "\n",
        "\n",
        "*   Descarga los datos directamente con pandas, muestra el tipo de datos másimportantes y genera un indice con las fechas, usando una transformación a tipo timestamp.\n",
        "\n",
        "*   Filtra los datos para un solo año y para un estado solamente (Sonora, por ejemplo)\n",
        "\n",
        "\n",
        "*   Modifica los valores de variables cualitativas para que sean más representativas en su análisis\n",
        "\n",
        "*   Realiza un análisis exploratorio básico usando pandas, haciendo algunas gráficas que muestren algunos detalles importantes o interesantes y con algunas regrupaciones simples o complejas.\n",
        "\n",
        "*   Escribir al final una reflexión de las cosas que se encontraron que se consideran importantes o interesantes.\n",
        "\n",
        "\n",
        "\n"
      ],
      "metadata": {
        "id": "TIlweJBpViAm"
      }
    },
    {
      "cell_type": "code",
      "source": [
        "import pandas as pd\n",
        "import matplotlib.pyplot as plt\n",
        "\n",
        "direccion='/content/Nacimientos_2023.csv'\n",
        "\n",
        "df=pd.read_csv(f'{direccion}',engine='python')"
      ],
      "metadata": {
        "id": "N43wq3mMVhwi"
      },
      "execution_count": null,
      "outputs": []
    },
    {
      "cell_type": "code",
      "source": [
        "df.info()"
      ],
      "metadata": {
        "colab": {
          "base_uri": "https://localhost:8080/"
        },
        "id": "Be-mb7QU8yMR",
        "outputId": "ca0394fe-d0aa-447b-a8c6-862a653fabcd"
      },
      "execution_count": 5,
      "outputs": [
        {
          "output_type": "stream",
          "name": "stdout",
          "text": [
            "<class 'pandas.core.frame.DataFrame'>\n",
            "RangeIndex: 1521280 entries, 0 to 1521279\n",
            "Data columns (total 64 columns):\n",
            " #   Column                      Non-Null Count    Dtype  \n",
            "---  ------                      --------------    -----  \n",
            " 0   NACIOEXTRANJERO             1521280 non-null  int64  \n",
            " 1   ENTIDADNACIMIENTO           1521280 non-null  int64  \n",
            " 2   MUNICIPIONACIMIENTO         1521280 non-null  int64  \n",
            " 3   EDAD                        1521280 non-null  int64  \n",
            " 4   SECONSIDERAINDIGENA         1521280 non-null  int64  \n",
            " 5   HABLALENGUAINDIGENA         1521280 non-null  int64  \n",
            " 6   FECHANACIMIENTOMADRE        1521280 non-null  object \n",
            " 7   ESTADOCONYUGAL              1521280 non-null  int64  \n",
            " 8   RESIDEEXTRANJERO            1521280 non-null  int64  \n",
            " 9   ENTIDADRESIDENCIA           1521280 non-null  int64  \n",
            " 10  MUNICIPIORESIDENCIA         1521280 non-null  int64  \n",
            " 11  LOCALIDADRESIDENCIA         1521280 non-null  int64  \n",
            " 12  NUMEROEMBARAZOS             1521280 non-null  int64  \n",
            " 13  HIJOSNACIDOSMUERTOS         1521279 non-null  float64\n",
            " 14  HIJOSNACIDOSVIVOS           1521280 non-null  int64  \n",
            " 15  HIJOSSOBREVIVIENTES         1521280 non-null  int64  \n",
            " 16  CONDICIONHIJOANTERIOR       1521280 non-null  int64  \n",
            " 17  VIVEHIJOANTERIOR            1521280 non-null  int64  \n",
            " 18  ORDENNACIMIENTO             1521280 non-null  int64  \n",
            " 19  ATENCIONPRENATAL            1521280 non-null  int64  \n",
            " 20  TRIMESTREPRIMERCONSULTA     1521280 non-null  int64  \n",
            " 21  TOTALCONSULTAS              1518726 non-null  float64\n",
            " 22  SOBREVIVIOPARTO             1521280 non-null  int64  \n",
            " 23  AFILIACION                  1521280 non-null  int64  \n",
            " 24  ESCOLARIDAD                 1521280 non-null  int64  \n",
            " 25  INTERRUMPIOESTUDIOS         1521280 non-null  int64  \n",
            " 26  CLAVEOCUPACIONHABITUAL      1521280 non-null  int64  \n",
            " 27  TRABAJAACTUALMENTE          1521280 non-null  int64  \n",
            " 28  EDADPADRE                   1520863 non-null  float64\n",
            " 29  FECHANACIMIENTO             1521280 non-null  object \n",
            " 30  HORANACIMIENTO              1521280 non-null  object \n",
            " 31  SEXO                        1521280 non-null  int64  \n",
            " 32  EDADGESTACIONAL             1521280 non-null  int64  \n",
            " 33  TALLA                       1521280 non-null  int64  \n",
            " 34  PESO                        1521280 non-null  int64  \n",
            " 35  APGAR                       1521280 non-null  int64  \n",
            " 36  SILVERMAN                   1521280 non-null  int64  \n",
            " 37  TAMIZAUDITIVO               1521280 non-null  int64  \n",
            " 38  VACUNA_BCG                  1521280 non-null  int64  \n",
            " 39  VACUNAHEPATITIS_B           1521280 non-null  int64  \n",
            " 40  VITAMINA_A                  1521280 non-null  int64  \n",
            " 41  VITAMINA_K                  1521280 non-null  int64  \n",
            " 42  PRODUCTOEMBARAZO            1521280 non-null  int64  \n",
            " 43  ORDENPRODUCTO               26432 non-null    float64\n",
            " 44  TOTALPRODUCTOS              27704 non-null    float64\n",
            " 45  CODIGOCIEANOMALIA1          1521280 non-null  object \n",
            " 46  CODIGOCIEANOMALIA2          1521280 non-null  object \n",
            " 47  LUGARNACIMIENTO             1521280 non-null  int64  \n",
            " 48  CLUES                       1521258 non-null  object \n",
            " 49  TIEMPOTRASLADO              1520861 non-null  object \n",
            " 50  RESOLUCIONEMBARAZO          1521280 non-null  int64  \n",
            " 51  UTILIZOFORCEPS              1521280 non-null  int64  \n",
            " 52  TIPOCESAREA                 1521280 non-null  int64  \n",
            " 53  PERSONALATENDIO             1521280 non-null  int64  \n",
            " 54  TIPOMEDICOATENDIO           1488605 non-null  float64\n",
            " 55  ENTIDADFEDERATIVAPARTO      1521280 non-null  int64  \n",
            " 56  MUNICIPIOPARTO              1521280 non-null  int64  \n",
            " 57  LOCALIDADPARTO              1521280 non-null  int64  \n",
            " 58  CERTIFICADOPOR              1521280 non-null  int64  \n",
            " 59  CLUESCERTIFICA              929349 non-null   object \n",
            " 60  ENTIDADFEDERATIVACERTIFICA  1521280 non-null  int64  \n",
            " 61  MUNICIPIOCERTIFICA          1521280 non-null  int64  \n",
            " 62  LOCALIDADCERTIFICA          1521280 non-null  int64  \n",
            " 63  FECHACERTIFICADO            1521280 non-null  object \n",
            "dtypes: float64(6), int64(49), object(9)\n",
            "memory usage: 742.8+ MB\n"
          ]
        }
      ]
    },
    {
      "cell_type": "markdown",
      "source": [
        "Separamos los"
      ],
      "metadata": {
        "id": "IzKDeNsiDWGJ"
      }
    }
  ]
}