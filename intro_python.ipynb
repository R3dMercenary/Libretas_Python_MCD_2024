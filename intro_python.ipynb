{
  "cells": [
    {
      "cell_type": "markdown",
      "metadata": {
        "id": "view-in-github",
        "colab_type": "text"
      },
      "source": [
        "<a href=\"https://colab.research.google.com/github/R3dMercenary/Libretas_Python_MCD_2024/blob/main/intro_python.ipynb\" target=\"_parent\"><img src=\"https://colab.research.google.com/assets/colab-badge.svg\" alt=\"Open In Colab\"/></a>"
      ]
    },
    {
      "cell_type": "markdown",
      "metadata": {
        "id": "suImkNHH5hLi"
      },
      "source": [
        "<a href=\"https://colab.research.google.com/github/mcd-unison/material-programacion/blob/main/intro-python.ipynb\" target=\"_parent\"><img src=\"https://colab.research.google.com/assets/colab-badge.svg\" alt=\"Open In Colab\"/></a>"
      ]
    },
    {
      "cell_type": "markdown",
      "metadata": {
        "id": "_hDGca3E5hLn"
      },
      "source": [
        "<center>\n",
        "<p><img src=\"https://mcd.unison.mx/wp-content/themes/awaken/img/logo_mcd.png\" width=\"100\">\n",
        "</p>\n",
        "\n",
        "\n",
        "\n",
        "# Curso Propedéutico en *Programación*\n",
        "\n",
        "## Introducción a `python` resolviendo preguntas\n",
        "\n",
        "\n",
        "**Julio Waissman Vilanova**\n",
        "\n"
      ]
    },
    {
      "cell_type": "markdown",
      "metadata": {
        "id": "-_W9BJ2C5hLp"
      },
      "source": [
        "### Tipos\n",
        "\n",
        "¿Cuales son los tipos de datos básicos? Revisa los tipos siguientes:\n",
        "\n",
        "1. Tipos numéricos `int`, `float`, `complex`\n",
        "2. Cadenas de caracteres\n",
        "3. Tuplas\n",
        "4. Listas\n",
        "5. Diccionarios\n",
        "6. Conjuntos\n",
        "\n",
        "Da ejemplo de sobrecarga de operadores (en particular `+` y `*`)\n",
        "\n"
      ]
    },
    {
      "cell_type": "code",
      "execution_count": null,
      "metadata": {
        "id": "Qcf-uA535hLr",
        "colab": {
          "base_uri": "https://localhost:8080/"
        },
        "outputId": "b022cfb8-c0eb-4484-f9b5-463121bfe0d7"
      },
      "outputs": [
        {
          "output_type": "stream",
          "name": "stdout",
          "text": [
            "(-8,34.43) (-8,34.43)\n",
            "(20,13.443) (20,13.443)\n"
          ]
        }
      ],
      "source": [
        "class numeros_raros:\n",
        "#Definimos los valores que se guardan en la clase:\n",
        "\n",
        "  def __init__(self,x,y):\n",
        "    self.x=x\n",
        "    self.y=y\n",
        "#Definimos la suma entre elementos dentro de la clase\n",
        "\n",
        "  def __add__(self,other):\n",
        "     return numeros_raros(self.x-self.y,other.y*self.y)\n",
        "#Definimos la multiplicacion entre elementos dentro de la clase\n",
        "\n",
        "  def __mul__(self,other):\n",
        "      return numeros_raros(self.x*self.y,other.y+self.y)\n",
        "\n",
        "#Se definen variables 'dummy' para hacer varias pruebas\n",
        "\n",
        "a=2\n",
        "b=10\n",
        "c=2.1\n",
        "d=3.443\n",
        "\n",
        "#Definimos instancias de la clase de 'Numeros raros'\n",
        "\n",
        "numero_raro_1=numeros_raros(a,b)\n",
        "numero_raro_2=numeros_raros(c,d)\n",
        "\n",
        "resultado_suma=numero_raro_1+numero_raro_2\n",
        "resultado_mult=numero_raro_1*numero_raro_2\n",
        "\n",
        "print(f\"({resultado_suma.x},{resultado_suma.y})\",f\"({a-b},{d*b})\")\n",
        "print(f\"({resultado_mult.x},{resultado_mult.y})\",f\"({a*b},{d+b})\")\n",
        "\n"
      ]
    },
    {
      "cell_type": "markdown",
      "metadata": {
        "id": "6Ts9D1y35hLs"
      },
      "source": [
        "\n",
        "¿Que significa que unos tipos sean *mutables* y otros *inmutables*?\n",
        "\n",
        "Realiza un pequeño programa donde quede claro lo que significa que un tipo de datos sea mutable, e ilustra el uso del método `copy.deepcopy()`."
      ]
    },
    {
      "cell_type": "code",
      "execution_count": null,
      "metadata": {
        "id": "INER3V9T5hLx",
        "colab": {
          "base_uri": "https://localhost:8080/"
        },
        "outputId": "f24cbc62-535c-4778-84b1-fba043ad86e7"
      },
      "outputs": [
        {
          "output_type": "stream",
          "name": "stdout",
          "text": [
            "~~~~~~~~~~Variables inmutables~~~~~~~~~~~~\n",
            "\n",
            "Ejemplos ilustrativos:\n",
            "x inicialmente valdra 42\n",
            "y valdra lo que vale x\n",
            "y ahora valdra 69\n",
            "Como x es de un tipo inmutable, su valor se preserva como 42\n",
            "~~~~~~~~~~Variables mutables~~~~~~~~~~~~\n",
            "\n",
            "l_1 inicialmente va contener los elementos []\n",
            "l_2 contiene lo que contiene l_1\n",
            "l_2 ahora contiene los elementos [2, 3, 5]\n",
            "Como l_1 es de un tipo mutable, su valor se cambia a [2, 3, 5] sin hacerle una modificacion directa\n",
            "~~~~~~~~~~Deep copy~~~~~~~~~~~~\n",
            "\n",
            "l_1 inicialmente va contener los elementos []\n",
            "l_2 contiene lo que contiene utilizando deepcopy l_1\n",
            "l_2 ahora contiene los elementos [2, 3, 5]\n",
            "Como utilizamos deepcopy,el valor de l_1 se preserva como []\n"
          ]
        }
      ],
      "source": [
        "#Variables inmutables:\n",
        "print('~~~~~~~~~~Variables inmutables~~~~~~~~~~~~')\n",
        "print()\n",
        "print('Ejemplos ilustrativos:')\n",
        "\n",
        "\n",
        "# Que una variable 'x' sea de tipo inmutable implica que si le asignamos a otra variable inmutable y el valor de 'x', esta misma no cambiara-\n",
        "#-aunque se haya modificado la variable 'y', y preserva el primer valor porque es una variable 'int'. Este tipo de objeto es inmutable\n",
        "#Para mostrarlo, hacemos el ejercicio ilustrativo:\n",
        "\n",
        "x=42\n",
        "print(f'x inicialmente valdra {x}')\n",
        "y=x\n",
        "print(f'y valdra lo que vale x')\n",
        "y=69\n",
        "print(f'y ahora valdra {y}')\n",
        "print(f'Como x es de un tipo inmutable, su valor se preserva como {x}')\n",
        "\n",
        "\n",
        "#Esto es cierto para los tipos str,int,float etc.\n",
        "\n",
        "print('~~~~~~~~~~Variables mutables~~~~~~~~~~~~')\n",
        "print()\n",
        "# En cambio, una variable de tipo mutable es precisamente lo contrario a una mutable\n",
        "#Para mostrarlo, hacemos el ejercicio ilustrativo:\n",
        "\n",
        "l_1=[]\n",
        "print(f'l_1 inicialmente va contener los elementos {l_1}')\n",
        "l_2=l_1\n",
        "print(f'l_2 contiene lo que contiene l_1')\n",
        "conjunto=[2,3,5]\n",
        "for k in conjunto:\n",
        "  l_2.append(k)\n",
        "print(f'l_2 ahora contiene los elementos {l_2}')\n",
        "print(f'Como l_1 es de un tipo mutable, su valor se cambia a {l_1} sin hacerle una modificacion directa')\n",
        "\n",
        "#Esto es cierto para los tipos set,list,dict etc.\n",
        "print('~~~~~~~~~~Deep copy~~~~~~~~~~~~')\n",
        "print()\n",
        "#Para evitar este tipo de situaciones utilizamos la funcion de copy.deepcopy:\n",
        "import copy\n",
        "l_1=[]\n",
        "print(f'l_1 inicialmente va contener los elementos {l_1}')\n",
        "l_2=copy.deepcopy(l_1)\n",
        "print(f'l_2 contiene lo que contiene utilizando deepcopy l_1')\n",
        "conjunto=[2,3,5]\n",
        "for k in conjunto:\n",
        "  l_2.append(k)\n",
        "print(f'l_2 ahora contiene los elementos {l_2}')\n",
        "print(f'Como utilizamos deepcopy,el valor de l_1 se preserva como {l_1}')"
      ]
    },
    {
      "cell_type": "markdown",
      "metadata": {
        "id": "Z8iEWH7e5hLz"
      },
      "source": [
        "### *Comprehension* de listas, conjuntos y diccionarios\n",
        "\n",
        "Escribe, en una sola linea, una expresión que genere una lista con todos los números enteros que se encuentran entre $1$ y $n$\n",
        "que sean divisibles por $3$ y $7$ y que el dígito menos significativo del número sea $6$."
      ]
    },
    {
      "cell_type": "code",
      "execution_count": null,
      "metadata": {
        "id": "cj-9O2Km5hL0",
        "colab": {
          "base_uri": "https://localhost:8080/"
        },
        "outputId": "5c54df32-f9d7-49b6-d92d-289d041760d8"
      },
      "outputs": [
        {
          "output_type": "stream",
          "name": "stdout",
          "text": [
            "[126, 336, 546, 756, 966, 1176, 1386, 1596, 1806, 2016, 2226, 2436, 2646, 2856, 3066, 3276, 3486, 3696, 3906, 4116, 4326, 4536, 4746, 4956, 5166, 5376, 5586, 5796, 6006, 6216, 6426, 6636, 6846, 7056, 7266, 7476, 7686, 7896, 8106, 8316, 8526, 8736, 8946, 9156, 9366, 9576, 9786, 9996]\n"
          ]
        }
      ],
      "source": [
        "n = 10_000\n",
        "\n",
        "# Escribe aqui el *one linner*\n",
        "\n",
        "lista=[k for k in range(1,n+1) if (k%3==0 and k%7==0)and(k%10==6)]\n",
        "print(lista)\n",
        "\n"
      ]
    },
    {
      "cell_type": "markdown",
      "metadata": {
        "id": "FqQtzMlF5hL6"
      },
      "source": [
        "### Funciones\n",
        "\n",
        "Escribe una función que:\n",
        "\n",
        "1. reciba una lista de elementos (letras, números, lo que sea),\n",
        "2. cuente la ocurrencia de cada elemento en la lista,\n",
        "3. devuelva las ocurrencias en forma de diccionario,\n",
        "4. si imprime es True, imprima un histograma de ocurrencias, por ejemplo:\n",
        "\n",
        "```python\n",
        "\n",
        "lista = [1,'a',1, 13, 'hola', 'a', 1, 1, 'a', 1]\n",
        "\n",
        "d = funcion_ejemplo(lista, imprime = True)\n",
        "\n",
        "1    \t\t***** \t(5 -> 50%)\n",
        "'a'  \t\t***   \t(3 -> 30%)\n",
        "13\t\t*\t(1 -> 10%)\n",
        "'hola'\t\t*\t(1 -> 10%)\n",
        "\n",
        "```"
      ]
    },
    {
      "cell_type": "code",
      "execution_count": null,
      "metadata": {
        "id": "dzNVZnVz5hMA"
      },
      "outputs": [],
      "source": [
        "# Escribe la función aquí\n",
        "\n",
        "def funcion_ejemplo(lista,imprime=True):\n",
        "#generamos un diccionario vacio:\n",
        "  diccionario={}\n",
        "# le agregamos elementos al diccionario definiendo las 'keys' como el elemento que se encuentra en la lista del argumento y el 'value' correspondiente como el numero de veces que sale en la lista:\n",
        "  for k in lista:\n",
        "    diccionario[f'{k}']={lista.count(k)}\n",
        "# si queremos que se imprima el historiagrama resultado, no movemos nada ya que asignamos el valor predeterminado de 'imprime' como verdadero:\n",
        "  if imprime:\n",
        "    for k in set(lista):\n",
        "      print(k,\"       \",lista.count(k)*\"*\",\"       \",f'({k}-->{lista.count(k)*100/len(lista)}%)')\n",
        "  return diccionario\n",
        "\n"
      ]
    },
    {
      "cell_type": "code",
      "execution_count": null,
      "metadata": {
        "id": "PM6CT3ZK5hMC",
        "colab": {
          "base_uri": "https://localhost:8080/",
          "height": 196
        },
        "outputId": "83b028b5-5d16-429d-d754-d196220546f1"
      },
      "outputs": [
        {
          "output_type": "error",
          "ename": "NameError",
          "evalue": "name 'funcion_ejemplo' is not defined",
          "traceback": [
            "\u001b[0;31m---------------------------------------------------------------------------\u001b[0m",
            "\u001b[0;31mNameError\u001b[0m                                 Traceback (most recent call last)",
            "\u001b[0;32m<ipython-input-8-00318ba56df7>\u001b[0m in \u001b[0;36m<cell line: 3>\u001b[0;34m()\u001b[0m\n\u001b[1;32m      1\u001b[0m \u001b[0;31m# Realiza pruebas aquí\u001b[0m\u001b[0;34m\u001b[0m\u001b[0;34m\u001b[0m\u001b[0m\n\u001b[1;32m      2\u001b[0m \u001b[0mlista\u001b[0m \u001b[0;34m=\u001b[0m \u001b[0;34m[\u001b[0m\u001b[0;36m1\u001b[0m\u001b[0;34m,\u001b[0m\u001b[0;34m'a'\u001b[0m\u001b[0;34m,\u001b[0m\u001b[0;36m1\u001b[0m\u001b[0;34m,\u001b[0m \u001b[0;36m13\u001b[0m\u001b[0;34m,\u001b[0m \u001b[0;34m'hola'\u001b[0m\u001b[0;34m,\u001b[0m \u001b[0;34m'a'\u001b[0m\u001b[0;34m,\u001b[0m \u001b[0;36m1\u001b[0m\u001b[0;34m,\u001b[0m \u001b[0;36m1\u001b[0m\u001b[0;34m,\u001b[0m \u001b[0;34m'a'\u001b[0m\u001b[0;34m,\u001b[0m \u001b[0;36m1\u001b[0m\u001b[0;34m]\u001b[0m\u001b[0;34m\u001b[0m\u001b[0;34m\u001b[0m\u001b[0m\n\u001b[0;32m----> 3\u001b[0;31m \u001b[0md\u001b[0m \u001b[0;34m=\u001b[0m \u001b[0mfuncion_ejemplo\u001b[0m\u001b[0;34m(\u001b[0m\u001b[0mlista\u001b[0m\u001b[0;34m,\u001b[0m \u001b[0mimprime\u001b[0m \u001b[0;34m=\u001b[0m \u001b[0;32mTrue\u001b[0m\u001b[0;34m)\u001b[0m\u001b[0;34m\u001b[0m\u001b[0;34m\u001b[0m\u001b[0m\n\u001b[0m\u001b[1;32m      4\u001b[0m \u001b[0mprint\u001b[0m\u001b[0;34m(\u001b[0m\u001b[0md\u001b[0m\u001b[0;34m)\u001b[0m\u001b[0;34m\u001b[0m\u001b[0;34m\u001b[0m\u001b[0m\n",
            "\u001b[0;31mNameError\u001b[0m: name 'funcion_ejemplo' is not defined"
          ]
        }
      ],
      "source": [
        "# Realiza pruebas aquí\n",
        "lista = [1,'a',1, 13, 'hola', 'a', 1, 1, 'a', 1]\n",
        "d = funcion_ejemplo(lista, imprime = True)\n",
        "print(d)"
      ]
    },
    {
      "cell_type": "markdown",
      "metadata": {
        "id": "-1dKjAFA5hMD"
      },
      "source": [
        "Escribe una función que modifique un diccionario y regrese el diccionario modificado y una copia del original, donde cada entrada\n",
        "del diccionario sea una lista de valores. Ten en cuenta que si una entrada del diccionario es de tipo mutable, al modificarlo en la\n",
        "copia se modifica el original. Utiliza el modulo `copy` para evitar este problema. Ejemplo de la función:\n",
        "\n",
        "```python\n",
        "dic1 = {'Pepe':[12, 'enero', 1980], 'Carolina':[15,'mayo',1975],'Paco':[10,'nov',1970]}\n",
        "dic2 = fundicos(dic1, 'Pepe', 1, 'febrero')\n",
        "\n",
        "print(dic1)\n",
        "{'Pepe':[12, 'enero', 1980], 'Carolina':[15,'mayo',1975],'Paco':[10,'nov',1970]}\n",
        "\n",
        "print(dic2)\n",
        "{'Pepe':[12, 'febrero', 1980], 'Carolina':[15,'mayo',1975],'Paco':[10,'nov',1970]}\n",
        "```"
      ]
    },
    {
      "cell_type": "code",
      "execution_count": null,
      "metadata": {
        "id": "BWGlPD-B5hME"
      },
      "outputs": [],
      "source": [
        "# Escribe la función fundicos aquí\n",
        "def fundicos(diccionario,key,dia=None,mes=None,año=None):\n",
        "  import copy\n",
        "  #Asignamos valores predeterminados\n",
        "  if dia==None:\n",
        "    dia=diccionario[key][0]\n",
        "  if mes==None:\n",
        "    mes=diccionario[key][1]\n",
        "  if año==None:\n",
        "    año=diccionario[key][2]\n",
        "  #Hacemos copia del diccionario original y uno modificado\n",
        "  diccionario_copia=copy.deepcopy(diccionario)\n",
        "  diccionario_modificado=copy.deepcopy(diccionario)\n",
        "\n",
        "  diccionario_modificado[key]=[dia,mes,año]\n",
        "\n",
        "  return diccionario_modificado"
      ]
    },
    {
      "cell_type": "code",
      "execution_count": null,
      "metadata": {
        "id": "ovMoBSBJ5hMF",
        "colab": {
          "base_uri": "https://localhost:8080/"
        },
        "outputId": "04c20a52-072f-42f2-d090-8809ebfaf55d"
      },
      "outputs": [
        {
          "output_type": "stream",
          "name": "stdout",
          "text": [
            "{'Pepe': [12, 'enero', 1980], 'Carolina': [15, 'mayo', 1975], 'Paco': [10, 'nov', 1970]}\n",
            "{'Pepe': [1, 'febrero', 1980], 'Carolina': [15, 'mayo', 1975], 'Paco': [10, 'nov', 1970]}\n"
          ]
        }
      ],
      "source": [
        "# Realiza pruebas de fundicos aquí\n",
        "dic1 = {'Pepe':[12, 'enero', 1980], 'Carolina':[15,'mayo',1975],'Paco':[10,'nov',1970]}\n",
        "dic2 = fundicos(dic1, 'Pepe', 1, 'febrero')\n",
        "\n",
        "print(dic1)\n",
        "print(dic2)"
      ]
    },
    {
      "cell_type": "markdown",
      "metadata": {
        "id": "gwDXPtSX5hMG"
      },
      "source": [
        "### Generadores\n",
        "\n",
        "Escribe un generador que reciba una lista y genere todas las permutaciones que se puedan hacer con los elementos de la lista"
      ]
    },
    {
      "cell_type": "code",
      "execution_count": null,
      "metadata": {
        "id": "IgIZKvRg5hMH"
      },
      "outputs": [],
      "source": [
        "# Escribe aqui fun1\n",
        "\n",
        "def permutaciones(lista,permutacion=[]):\n",
        "    \"\"\"\n",
        "    Permutaciones de los elementos de una lista. Asignamos el valor predeterminado de 'permutacion' como vacío, para luego hacer auto referencia mas tarde en la propia función en la iteración.\n",
        "\n",
        "    Devuelve un generador con todas las permutaciones posibles de los elementos de la lista de entrada\n",
        "    \"\"\"\n",
        "    if len(lista) == 0:\n",
        "      yield lista\n",
        "    else:\n",
        "      # Iteramos por cada elemento de la lista. La función de k es marcar el indice de donde se encuentra el elemento x dentro de la lista argumento.\n",
        "      for k, x in enumerate(lista):\n",
        "        # Hacemos una lista sin el elemento:\n",
        "        lista_sin_elemento = lista[:k] + lista[k+1:]\n",
        "        # Ahora podemos hacer la expresion generadora de las permutaciones.Aquí es donde entra en juego la autoreferencia de la función.\n",
        "        for permutacion in permutaciones(lista_sin_elemento):\n",
        "          yield [ x ] + permutacion\n",
        "\n"
      ]
    },
    {
      "cell_type": "code",
      "execution_count": null,
      "metadata": {
        "id": "4KWRFEpk5hMI",
        "colab": {
          "base_uri": "https://localhost:8080/"
        },
        "outputId": "cc808808-c84c-4621-f1ed-cf12d7e5d326"
      },
      "outputs": [
        {
          "output_type": "stream",
          "name": "stdout",
          "text": [
            "['a', 'b', 'c', 'd']\n",
            "['a', 'b', 'd', 'c']\n",
            "['a', 'c', 'b', 'd']\n",
            "['a', 'c', 'd', 'b']\n",
            "['a', 'd', 'b', 'c']\n",
            "['a', 'd', 'c', 'b']\n",
            "['b', 'a', 'c', 'd']\n",
            "['b', 'a', 'd', 'c']\n",
            "['b', 'c', 'a', 'd']\n",
            "['b', 'c', 'd', 'a']\n",
            "['b', 'd', 'a', 'c']\n",
            "['b', 'd', 'c', 'a']\n",
            "['c', 'a', 'b', 'd']\n",
            "['c', 'a', 'd', 'b']\n",
            "['c', 'b', 'a', 'd']\n",
            "['c', 'b', 'd', 'a']\n",
            "['c', 'd', 'a', 'b']\n",
            "['c', 'd', 'b', 'a']\n",
            "['d', 'a', 'b', 'c']\n",
            "['d', 'a', 'c', 'b']\n",
            "['d', 'b', 'a', 'c']\n",
            "['d', 'b', 'c', 'a']\n",
            "['d', 'c', 'a', 'b']\n",
            "['d', 'c', 'b', 'a']\n"
          ]
        }
      ],
      "source": [
        "# Realiza pruebas de fun2 aquí\n",
        "for p in permutaciones(['a', 'b', 'c', 'd']):\n",
        "    print(p)"
      ]
    },
    {
      "cell_type": "markdown",
      "metadata": {
        "id": "KkcidinA5hMK"
      },
      "source": [
        "Ahora escribe una funcipn que reciba 4 digitos del 0 al 9, y devuelva una lista con todas las horas váidas que se puedan hacer con estos dígitos en forma de lista de strings con la forma `\"HH:MM\"`."
      ]
    },
    {
      "cell_type": "code",
      "execution_count": null,
      "metadata": {
        "id": "1GKk-CLb5hMK"
      },
      "outputs": [],
      "source": [
        "def horas_validas(lista):\n",
        "\n",
        "    \"\"\"\n",
        "    Docstring a comentar correctamente\n",
        "\n",
        "    Primero vamos a crear una lista de todas las permutaciones que existen de los 4 digitos apoyandonos de la función obtenida en la celda anterior\n",
        "    Despues, depuramos todos los numeros mayores a 2359\n",
        "    Luego depuramos todos los numeros cuales sus dos ultimos digitos son mayor a 60\n",
        "    Ahora creamos otra lista donde se convierten los numeros en strings de la forma específicada\n",
        "    \"\"\"\n",
        "    permutaciones_posibles=[]\n",
        "    #En esta sección convertimos las permutaciones en numeros de 4 digitos para facilitar el proceso de depuracion\n",
        "    for x in permutaciones(lista):\n",
        "      #print(x)\n",
        "      y=0\n",
        "      for k in range(len(x)):\n",
        "        y=y+x[k]*(10**k)\n",
        "        #print(y)\n",
        "      permutaciones_posibles.append(y)\n",
        "      #print(permutaciones_posibles)\n",
        "    depuracion_2359=[k for k in permutaciones_posibles if (k <= 2359) ]\n",
        "    depuracion_60=[k for k in depuracion_2359 if (k%100<60)]\n",
        "    #print(depuracion_2359)\n",
        "    #print(depuracion_60)\n",
        "    horas=[f\"{int((k-k%1000)/1000)}{int((k%1000-k%100)/100)}:{int((k%100-k%10)/10)}{int(k%10)}\" for k in depuracion_60 ]\n",
        "\n",
        "    return horas\n",
        "    #TODO: Implementar la función\n"
      ]
    },
    {
      "cell_type": "code",
      "source": [
        "\n",
        "#Pruebas para conseguir digitos de un número\n",
        "a=2\n",
        "b=4\n",
        "c=5\n",
        "d=7\n",
        "\n",
        "k=a*1000+b*100+c*10+d\n",
        "\n",
        "m=int((k-k%1000)/1000)\n",
        "ce=int((k%1000-k%100)/100)\n",
        "de=int((k%100-k%10)/10)\n",
        "u=int(k%10)\n",
        "\n",
        "print(f\"{m}{ce}{de}{u}\")"
      ],
      "metadata": {
        "colab": {
          "base_uri": "https://localhost:8080/"
        },
        "id": "nk6b7ev6AwEY",
        "outputId": "7e0e7d3e-1925-4cc8-ea26-8cf57e4f3b20"
      },
      "execution_count": null,
      "outputs": [
        {
          "output_type": "stream",
          "name": "stdout",
          "text": [
            "2457\n"
          ]
        }
      ]
    },
    {
      "cell_type": "markdown",
      "metadata": {
        "id": "uO8YBAbi5hMO"
      },
      "source": [
        "\n",
        "Validando:"
      ]
    },
    {
      "cell_type": "code",
      "execution_count": null,
      "metadata": {
        "id": "vetkf15H5hMP",
        "colab": {
          "base_uri": "https://localhost:8080/"
        },
        "outputId": "7a6a3a37-a667-41ce-b193-952488328c8b"
      },
      "outputs": [
        {
          "output_type": "stream",
          "name": "stdout",
          "text": [
            "['23:41', '14:32', '13:42', '14:23', '21:43', '12:43', '23:14', '13:24', '21:34', '12:34']\n"
          ]
        }
      ],
      "source": [
        "print(horas_validas([1,2,3,4]))"
      ]
    },
    {
      "cell_type": "markdown",
      "metadata": {
        "id": "kDGBTKlF5hMR"
      },
      "source": [
        "Escribe una función, lo más compacta posible, que escoja entre los 3 patrones ascii a continuación, e imprima en pantalla\n",
        "el deseado, pero de dimensión $n$ ($n \\ge 4$), toma en cuanta que para algunos valores de $n$ habrá\n",
        "algún(os) patrones que no se puedan hacer.\n",
        "\n",
        "```\n",
        "          *             ++++           oooooooo\n",
        "          **            ++++           ooo  ooo\n",
        "          ***           ++++           oo    oo\n",
        "          ****          ++++           o      o\n",
        "          *****             ++++       o      o\n",
        "          ******            ++++       oo    oo\n",
        "          *******           ++++       ooo  ooo\n",
        "          ********          ++++       oooooooo\n",
        "\n",
        "```"
      ]
    },
    {
      "cell_type": "code",
      "execution_count": null,
      "metadata": {
        "id": "U4OsfK8X5hMS"
      },
      "outputs": [],
      "source": [
        "# Escribe aquí la función\n",
        "def imprimir(patron,dimension=8):\n",
        "  if dimension <=8:\n",
        "    for k in range(dimension):\n",
        "      print(patron[k])\n",
        "  else:\n",
        "    for k in range(dimension-(dimension%8)):\n",
        "      print(patron[k])\n"
      ]
    },
    {
      "cell_type": "code",
      "execution_count": null,
      "metadata": {
        "id": "seXZyuOt5hMT",
        "colab": {
          "base_uri": "https://localhost:8080/"
        },
        "outputId": "51104e4c-9233-4230-816f-6f27ebe778f3"
      },
      "outputs": [
        {
          "output_type": "stream",
          "name": "stdout",
          "text": [
            "-------------------Patrones disponibles-------------------\n",
            "\n",
            "*          ++++          oooooooo\n",
            "**         ++++          ooo  ooo\n",
            "***        ++++          oo    oo\n",
            "****       ++++          o      o\n",
            "******         ++++      oo    oo\n",
            "*******        ++++      ooo  ooo\n",
            "********       ++++      oooooooo\n",
            "   (1)         (2)          (3)\n",
            "\n",
            "-------------------Patrones prueba-------------------\n",
            "\n",
            "-------------------Prueba 1-------------------\n",
            "\n",
            "oooooooo\n",
            "ooo  ooo\n",
            "oo    oo\n",
            "o      o\n",
            "o      o\n",
            "oo    oo\n",
            "ooo  ooo\n",
            "oooooooo\n",
            "-------------------Prueba 2-------------------\n",
            "\n",
            "++++\n",
            "++++\n",
            "-------------------Prueba 3------------------\n",
            "\n",
            "*\n",
            "**\n",
            "***\n",
            "****\n",
            "*****\n",
            "******\n",
            "*******\n",
            "-------------------Prueba 4-------------------\n",
            "\n",
            "++++\n",
            "++++\n",
            "++++\n",
            "++++\n",
            "    ++++\n",
            "    ++++\n",
            "    ++++\n",
            "    ++++\n",
            "-------------------Prueba 5-------------------\n",
            "\n",
            "oooooooo\n",
            "ooo  ooo\n",
            "oo    oo\n",
            "o      o\n",
            "o      o\n"
          ]
        }
      ],
      "source": [
        "#Realiza pruebas aquí\n",
        "\n",
        "patron1=[k*'*' for k in range(1,9)]\n",
        "patron2=[4*'+' for k in range (1,5)]+[(4*\" \"+ 4*\"+\")for k in range(5,9)]\n",
        "patron3=[(4-k)*\"o\"+2*k*' '+(4-k)*\"o\" for k in range(4)]+[k*\"o\"+2*(4-k)*' '+k*\"o\" for k in range(1,5)]\n",
        "\n",
        "patrones=[patron1,patron2,patron3]\n",
        "\n",
        "print('-------------------Patrones disponibles-------------------')\n",
        "print()\n",
        "\n",
        "#Se imprimen todos los patrones disponibles horizontalmente\n",
        "for k in range(4):\n",
        "   print(patron1[k],(8-k)*' ',patron2[k],8*' ',patron3[k])\n",
        "for k in range(5,8):\n",
        "  print(patron1[k],(8-k)*' ',patron2[k],4*' ',patron3[k])\n",
        "#Los etiquetamos con numeros centrados abajo de sus impresiones:\n",
        "print(2*\" \",'(1)',7*' ','(2)',8*' ','(3)')\n",
        "print()\n",
        "\n",
        "print('-------------------Patrones prueba-------------------')\n",
        "print()\n",
        "\n",
        "print('-------------------Prueba 1-------------------')\n",
        "print()\n",
        "\n",
        "imprimir(patron3,10)\n",
        "\n",
        "print('-------------------Prueba 2-------------------')\n",
        "print()\n",
        "imprimir(patron2,2)\n",
        "\n",
        "\n",
        "print('-------------------Prueba 3------------------')\n",
        "print()\n",
        "\n",
        "imprimir(patron1,7)\n",
        "\n",
        "print('-------------------Prueba 4-------------------')\n",
        "print()\n",
        "\n",
        "imprimir(patron2,9)\n",
        "\n",
        "print('-------------------Prueba 5-------------------')\n",
        "print()\n",
        "\n",
        "imprimir(patron3,5)\n",
        "\n"
      ]
    },
    {
      "cell_type": "markdown",
      "metadata": {
        "id": "MIu8hu5R5hMU"
      },
      "source": [
        "### Clases y objetos\n",
        "\n",
        "Diseña una clase Matriz con las siguientes características:\n",
        "\n",
        "1. Como inicialización de un objeto es necesario conocer $n$, $m$ y tipo. En caso de no proporcionar $m$ la matriz se asume cuadrada de $n \\times n$. En caso de no proporcionar $n$ la matriz tendrá una dimensión de $1 \\times 1$.\n",
        "2. De no especificarse todos los elementos se inicializan a 0, a menos que exista un tipo especial ( `unos` o `diag` por el momento).\n",
        "3. Implementa con sobrecarga la suma de matrices, la multiplicación de matrices y la multiplicación por un escalar.\n",
        "4. Implementa como métodos eliminar columna y eliminar fila.   \n",
        "5. Programa la representación visual de la matriz.\n",
        "6. Ten en cuenta tambien el manejo de errores.\n",
        "\n",
        "\n",
        "Ejemplo de uso:\n",
        "\n",
        "```\n",
        ">>> A = Matriz(n=3, m=4)\n",
        "\n",
        ">>> print(A)\n",
        "0 0 0 0\n",
        "0 0 0 0\n",
        "0 0 0 0\n",
        "\n",
        ">>> A = A.quitafila(2)\n",
        "\n",
        ">>> print(A)\n",
        "0 0 0 0\n",
        "0 0 0 0\n",
        "\n",
        ">>> B = Matriz(4,4,'diag')\n",
        "\n",
        ">>> print(B)\n",
        "1 0 0 0\n",
        "0 1 0 0\n",
        "0 0 1 0\n",
        "0 0 0 1\n",
        "\n",
        ">>> C = Matriz(4,1,'unos')\n",
        "\n",
        ">>> print(C)\n",
        "1\n",
        "1\n",
        "1\n",
        "1\n",
        "\n",
        ">>> D = 3 * B * C\n",
        "\n",
        ">>> print(D)\n",
        "3\n",
        "3\n",
        "3\n",
        "3\n",
        "\n",
        ">>> E = 3 * B + C\n",
        "error \"No seas menso, si no son de la misma dimensión las matrices no se pueden sumar\"\n",
        "```"
      ]
    },
    {
      "cell_type": "code",
      "execution_count": 2,
      "metadata": {
        "id": "Uv6S-hUp5hMU"
      },
      "outputs": [],
      "source": [
        "# Desarrolla aqui la clase\n",
        "import copy\n",
        "class Matriz:\n",
        "\n",
        "  def __init__(self,n=1,m=0,especial=None,lista=None):\n",
        "\n",
        "#Asignamos el numero de renglones 'm' el valor automatico de 'n'\n",
        "    if m==0:\n",
        "      m=n\n",
        "    if lista!=None and (type(lista[0])==float or type(lista[0])==int) :\n",
        "      self.renglon=[lista]\n",
        "    else:\n",
        "      self.renglon=lista\n",
        "\n",
        "\n",
        "    self.n=n\n",
        "    self.m=m\n",
        "\n",
        "\n",
        "\n",
        "#Aquí definimos las matrices especiales.Me parece más manejable si cada matriz\n",
        "#-guarda una lista de tanto sus columnas como renglones para las operaciones de concatenación o de remover\n",
        "\n",
        "#Caso default\n",
        "\n",
        "    \"\"\"\n",
        "    Se llena la lista de columnas con listas\n",
        "    Estas listas las llenaremos con 0's por el caso default.\n",
        "\n",
        "    \"\"\"\n",
        "    if especial==None:\n",
        "      self.renglon=[[0 for j in range(n)] for k in range(m)]\n",
        "\n",
        "\n",
        "#Caso diagonal\n",
        "    elif especial=='diag':\n",
        "      self.renglon=[[1 if (j==k) else 0 for j in range(n)] for k in range(m)]\n",
        "#Caso unos\n",
        "    elif especial=='unos':\n",
        "       self.renglon=[[1for j in range(n)] for k in range(m)]\n",
        "\n",
        "    else:\n",
        "      print('No se entendió o no existe ese tipo de matriz especial')\n",
        "\n",
        "# Función de columnas:\n",
        "  def columna():\n",
        "    columnas=[[self.renglon[k] for k in range(m)] for j in range(n)]\n",
        "    return columnas\n",
        "\n",
        "# Aquí definimos la representación visual de las matrices:\n",
        "  def __repr__(self):\n",
        "    renglones=[\"\\t\".join(map(str,renglon)) for renglon in self.renglon]\n",
        "    return \"\\n\".join(renglones)\n",
        "\n",
        "# Definimos la suma de matrices considerando que deben tener las mismas dimensiones\n",
        "  def __add__(self,other):\n",
        "    if self.n==other.n and self.m==other.m:\n",
        "      for k in range(n):\n",
        "        for j in range(m):\n",
        "           resultado[k][j]=self.columna[k][j]+other.columna[k][j]\n",
        "      return resultado\n",
        "    else:\n",
        "      print('No coinciden en dimensiones las matrices, no seas una cabeza de nabo')\n",
        "\n",
        "#Definimos la multiplicación de matrices:\n",
        "\n",
        "  def __mul__(self,other):\n",
        "\n",
        "      if isinstance(other,Matriz):\n",
        "       if self.m==other.n:\n",
        "          resultado=[]\n",
        "          for i in self.m:\n",
        "            for j in other.n:\n",
        "              resultado[i][j]+=self.columna[i][j]*other.renglon[j][i]\n",
        "       if self.n==other.m:\n",
        "         resultado=[]\n",
        "         for i in self.n:\n",
        "            for j in other.m:\n",
        "             resultado[i][j]+=self.columna[j][i]*other.renglon[i][j]\n",
        "       elif isinstance(other,(int,float)):\n",
        "          resultado=[]\n",
        "          for i in self.m:\n",
        "            for j in self.n:\n",
        "              resultado[i][j]=other*self.columna[i][j]\n",
        "      return Matriz(resultado)\n",
        "\n",
        "\n",
        "#Definimos las funciones para remover una fila en específico\n",
        "  def quitafila(self,fila=0):\n",
        "    x=copy.deepcopy(self.renglon)\n",
        "    self.quitafila=x[:fila]+x[fila:]\n",
        "    print(self.quitafila)\n",
        "\n",
        "    return Matriz(self.quitafila)\n",
        "\n",
        "  def quitacolumna(self,columna=0):\n",
        "    x=copy.deepcopy(self.columna)\n",
        "    self.quitacolumna=x[:fila]+x[fila:]\n",
        "    return Matriz(self.quitacolumna)\n",
        "\n",
        "#Definimos como"
      ]
    },
    {
      "cell_type": "code",
      "execution_count": 3,
      "metadata": {
        "id": "0XWTDP235hMV",
        "colab": {
          "base_uri": "https://localhost:8080/",
          "height": 483
        },
        "outputId": "5a4eb10d-3777-47c8-be2c-989c3c245eeb"
      },
      "outputs": [
        {
          "output_type": "stream",
          "name": "stdout",
          "text": [
            "A =\n",
            "0\t0\t0\n",
            "0\t0\t0\n",
            "0\t0\t0\n",
            "0\t0\t0\n",
            "[[0, 0, 0], [0, 0, 0], [0, 0, 0], [0, 0, 0]]\n"
          ]
        },
        {
          "output_type": "error",
          "ename": "TypeError",
          "evalue": "'list' object cannot be interpreted as an integer",
          "traceback": [
            "\u001b[0;31m---------------------------------------------------------------------------\u001b[0m",
            "\u001b[0;31mTypeError\u001b[0m                                 Traceback (most recent call last)",
            "\u001b[0;32m<ipython-input-3-71781351083b>\u001b[0m in \u001b[0;36m<cell line: 7>\u001b[0;34m()\u001b[0m\n\u001b[1;32m      5\u001b[0m \u001b[0mprint\u001b[0m\u001b[0;34m(\u001b[0m\u001b[0mA\u001b[0m\u001b[0;34m)\u001b[0m\u001b[0;34m\u001b[0m\u001b[0;34m\u001b[0m\u001b[0m\n\u001b[1;32m      6\u001b[0m \u001b[0;34m\u001b[0m\u001b[0m\n\u001b[0;32m----> 7\u001b[0;31m \u001b[0mA\u001b[0m \u001b[0;34m=\u001b[0m\u001b[0mA\u001b[0m\u001b[0;34m.\u001b[0m\u001b[0mquitafila\u001b[0m\u001b[0;34m(\u001b[0m\u001b[0;36m2\u001b[0m\u001b[0;34m)\u001b[0m\u001b[0;34m\u001b[0m\u001b[0;34m\u001b[0m\u001b[0m\n\u001b[0m\u001b[1;32m      8\u001b[0m \u001b[0mprint\u001b[0m\u001b[0;34m(\u001b[0m\u001b[0;34m'A = '\u001b[0m\u001b[0;34m)\u001b[0m\u001b[0;34m\u001b[0m\u001b[0;34m\u001b[0m\u001b[0m\n\u001b[1;32m      9\u001b[0m \u001b[0mprint\u001b[0m\u001b[0;34m(\u001b[0m\u001b[0mA\u001b[0m\u001b[0;34m)\u001b[0m\u001b[0;34m\u001b[0m\u001b[0;34m\u001b[0m\u001b[0m\n",
            "\u001b[0;32m<ipython-input-2-87390289b84e>\u001b[0m in \u001b[0;36mquitafila\u001b[0;34m(self, fila)\u001b[0m\n\u001b[1;32m     89\u001b[0m     \u001b[0mprint\u001b[0m\u001b[0;34m(\u001b[0m\u001b[0mself\u001b[0m\u001b[0;34m.\u001b[0m\u001b[0mquitafila\u001b[0m\u001b[0;34m)\u001b[0m\u001b[0;34m\u001b[0m\u001b[0;34m\u001b[0m\u001b[0m\n\u001b[1;32m     90\u001b[0m \u001b[0;34m\u001b[0m\u001b[0m\n\u001b[0;32m---> 91\u001b[0;31m     \u001b[0;32mreturn\u001b[0m \u001b[0mMatriz\u001b[0m\u001b[0;34m(\u001b[0m\u001b[0mself\u001b[0m\u001b[0;34m.\u001b[0m\u001b[0mquitafila\u001b[0m\u001b[0;34m)\u001b[0m\u001b[0;34m\u001b[0m\u001b[0;34m\u001b[0m\u001b[0m\n\u001b[0m\u001b[1;32m     92\u001b[0m \u001b[0;34m\u001b[0m\u001b[0m\n\u001b[1;32m     93\u001b[0m   \u001b[0;32mdef\u001b[0m \u001b[0mquitacolumna\u001b[0m\u001b[0;34m(\u001b[0m\u001b[0mself\u001b[0m\u001b[0;34m,\u001b[0m\u001b[0mcolumna\u001b[0m\u001b[0;34m=\u001b[0m\u001b[0;36m0\u001b[0m\u001b[0;34m)\u001b[0m\u001b[0;34m:\u001b[0m\u001b[0;34m\u001b[0m\u001b[0;34m\u001b[0m\u001b[0m\n",
            "\u001b[0;32m<ipython-input-2-87390289b84e>\u001b[0m in \u001b[0;36m__init__\u001b[0;34m(self, n, m, especial, lista)\u001b[0m\n\u001b[1;32m     29\u001b[0m     \"\"\"\n\u001b[1;32m     30\u001b[0m     \u001b[0;32mif\u001b[0m \u001b[0mespecial\u001b[0m\u001b[0;34m==\u001b[0m\u001b[0;32mNone\u001b[0m\u001b[0;34m:\u001b[0m\u001b[0;34m\u001b[0m\u001b[0;34m\u001b[0m\u001b[0m\n\u001b[0;32m---> 31\u001b[0;31m       \u001b[0mself\u001b[0m\u001b[0;34m.\u001b[0m\u001b[0mrenglon\u001b[0m\u001b[0;34m=\u001b[0m\u001b[0;34m[\u001b[0m\u001b[0;34m[\u001b[0m\u001b[0;36m0\u001b[0m \u001b[0;32mfor\u001b[0m \u001b[0mj\u001b[0m \u001b[0;32min\u001b[0m \u001b[0mrange\u001b[0m\u001b[0;34m(\u001b[0m\u001b[0mn\u001b[0m\u001b[0;34m)\u001b[0m\u001b[0;34m]\u001b[0m \u001b[0;32mfor\u001b[0m \u001b[0mk\u001b[0m \u001b[0;32min\u001b[0m \u001b[0mrange\u001b[0m\u001b[0;34m(\u001b[0m\u001b[0mm\u001b[0m\u001b[0;34m)\u001b[0m\u001b[0;34m]\u001b[0m\u001b[0;34m\u001b[0m\u001b[0;34m\u001b[0m\u001b[0m\n\u001b[0m\u001b[1;32m     32\u001b[0m \u001b[0;34m\u001b[0m\u001b[0m\n\u001b[1;32m     33\u001b[0m \u001b[0;34m\u001b[0m\u001b[0m\n",
            "\u001b[0;31mTypeError\u001b[0m: 'list' object cannot be interpreted as an integer"
          ]
        }
      ],
      "source": [
        "# Realiza las pruebas a la clase aquí\n",
        "\n",
        "A = Matriz(n=3, m=4)\n",
        "print('A =')\n",
        "print(A)\n",
        "\n",
        "A =A.quitafila(2)\n",
        "print('A = ')\n",
        "print(A)\n",
        "\n",
        "B = Matriz(4,4,'diag')\n",
        "print('B = ', B)\n",
        "\n",
        "C = Matriz(4,1,'unos')\n",
        "print('C =', C)\n",
        "\n",
        "D = 3 * B * C\n",
        "print('D = ', D)\n",
        "\n",
        "E = 3 * B + C\n",
        "print('E = ', E)"
      ]
    }
  ],
  "metadata": {
    "kernelspec": {
      "display_name": "ing-caract",
      "language": "python",
      "name": "python3"
    },
    "language_info": {
      "codemirror_mode": {
        "name": "ipython",
        "version": 3
      },
      "file_extension": ".py",
      "mimetype": "text/x-python",
      "name": "python",
      "nbconvert_exporter": "python",
      "pygments_lexer": "ipython3",
      "version": "3.8.13"
    },
    "orig_nbformat": 4,
    "colab": {
      "provenance": [],
      "include_colab_link": true
    }
  },
  "nbformat": 4,
  "nbformat_minor": 0
}